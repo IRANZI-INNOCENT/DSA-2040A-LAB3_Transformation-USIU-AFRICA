{
 "cells": [
  {
   "cell_type": "code",
   "execution_count": 1,
   "id": "0cf9fb24",
   "metadata": {},
   "outputs": [
    {
     "name": "stdout",
     "output_type": "stream",
     "text": [
      "Setup complete. Output directory: loaded_data\n"
     ]
    }
   ],
   "source": [
    "# Section 1: Load Setup\n",
    "import pandas as pd\n",
    "import os\n",
    "\n",
    "# Define paths\n",
    "data_dir = \"loaded_data\"\n",
    "os.makedirs(data_dir, exist_ok=True)\n",
    "parquet_full_path = os.path.join(data_dir, \"full_data.parquet\")\n",
    "parquet_inc_path = os.path.join(data_dir, \"incremental_data.parquet\")\n",
    "\n",
    "print(\"Setup complete. Output directory:\", data_dir)"
   ]
  },
  {
   "cell_type": "code",
   "execution_count": 2,
   "id": "6a9a3cbd",
   "metadata": {},
   "outputs": [
    {
     "name": "stdout",
     "output_type": "stream",
     "text": [
      "Full transformed data saved to loaded_data\\full_data.parquet\n",
      "Preview of full data:\n",
      "   transaction_id        date  customer_id product  amount product_category  \\\n",
      "0               1  2025-03-23         1916   Phone   58.85           Mobile   \n",
      "1               2  2025-01-15         4752  Laptop  640.10        Computing   \n",
      "2               3  2025-01-04         1525  Laptop  584.84        Computing   \n",
      "3               4  2025-02-05         6168  Laptop  144.98        Computing   \n",
      "4               5  2025-02-01         7572   Phone  560.75           Mobile   \n",
      "\n",
      "     month  \n",
      "0  2025-03  \n",
      "1  2025-01  \n",
      "2  2025-01  \n",
      "3  2025-02  \n",
      "4  2025-02  \n"
     ]
    }
   ],
   "source": [
    "# Section 2: Load Full Transformed Data\n",
    "# Read transformed_full.csv and save as Parquet\n",
    "df_full = pd.read_csv(\"transformed_full.csv\")\n",
    "df_full.to_parquet(parquet_full_path, index=False)\n",
    "print(f\"Full transformed data saved to {parquet_full_path}\")\n",
    "print(\"Preview of full data:\")\n",
    "print(df_full.head())"
   ]
  },
  {
   "cell_type": "code",
   "execution_count": 3,
   "id": "9246d68b",
   "metadata": {},
   "outputs": [
    {
     "name": "stdout",
     "output_type": "stream",
     "text": [
      "Incremental transformed data saved to loaded_data\\incremental_data.parquet\n",
      "Preview of incremental data:\n",
      "Empty DataFrame\n",
      "Columns: [transaction_id, date, customer_id, product, amount, product_category, month]\n",
      "Index: []\n"
     ]
    }
   ],
   "source": [
    "# Section 3: Load Incremental Transformed Data\n",
    "# Read transformed_incremental.csv and save as Parquet\n",
    "df_inc = pd.read_csv(\"transformed_incremental.csv\")\n",
    "df_inc.to_parquet(parquet_inc_path, index=False)\n",
    "print(f\"Incremental transformed data saved to {parquet_inc_path}\")\n",
    "print(\"Preview of incremental data:\")\n",
    "print(df_inc.head())"
   ]
  },
  {
   "cell_type": "code",
   "execution_count": 4,
   "id": "55301885",
   "metadata": {},
   "outputs": [
    {
     "name": "stdout",
     "output_type": "stream",
     "text": [
      "Verified full data (first 5 rows):\n",
      "   transaction_id        date  customer_id product  amount product_category  \\\n",
      "0               1  2025-03-23         1916   Phone   58.85           Mobile   \n",
      "1               2  2025-01-15         4752  Laptop  640.10        Computing   \n",
      "2               3  2025-01-04         1525  Laptop  584.84        Computing   \n",
      "3               4  2025-02-05         6168  Laptop  144.98        Computing   \n",
      "4               5  2025-02-01         7572   Phone  560.75           Mobile   \n",
      "\n",
      "     month  \n",
      "0  2025-03  \n",
      "1  2025-01  \n",
      "2  2025-01  \n",
      "3  2025-02  \n",
      "4  2025-02  \n",
      "Verified incremental data (first 5 rows):\n",
      "Empty DataFrame\n",
      "Columns: [transaction_id, date, customer_id, product, amount, product_category, month]\n",
      "Index: []\n"
     ]
    }
   ],
   "source": [
    "# Section 4: Verification\n",
    "# Read back the Parquet files and verify\n",
    "verified_full = pd.read_parquet(parquet_full_path)\n",
    "verified_inc = pd.read_parquet(parquet_inc_path)\n",
    "print(\"Verified full data (first 5 rows):\")\n",
    "print(verified_full.head())\n",
    "print(\"Verified incremental data (first 5 rows):\")\n",
    "print(verified_inc.head())"
   ]
  },
  {
   "cell_type": "markdown",
   "id": "c5095007",
   "metadata": {},
   "source": [
    "* Since transformed_incremental.csv is currently empty (based on the last extraction date of 2025-04-05 and no newer records), the incremental Parquet file will also be empty."
   ]
  },
  {
   "cell_type": "markdown",
   "id": "4a374335",
   "metadata": {},
   "source": []
  }
 ],
 "metadata": {
  "kernelspec": {
   "display_name": "Python 3",
   "language": "python",
   "name": "python3"
  },
  "language_info": {
   "codemirror_mode": {
    "name": "ipython",
    "version": 3
   },
   "file_extension": ".py",
   "mimetype": "text/x-python",
   "name": "python",
   "nbconvert_exporter": "python",
   "pygments_lexer": "ipython3",
   "version": "3.12.8"
  }
 },
 "nbformat": 4,
 "nbformat_minor": 5
}
